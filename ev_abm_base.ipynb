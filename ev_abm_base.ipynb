{
 "cells": [
  {
   "attachments": {},
   "cell_type": "markdown",
   "metadata": {},
   "source": [
    "# AB Model from spec"
   ]
  },
  {
   "attachments": {},
   "cell_type": "markdown",
   "metadata": {},
   "source": [
    "## Setup"
   ]
  },
  {
   "attachments": {},
   "cell_type": "markdown",
   "metadata": {},
   "source": [
    "Package installation"
   ]
  },
  {
   "cell_type": "code",
   "execution_count": null,
   "metadata": {},
   "outputs": [],
   "source": [
    "# !pip3 install seaborn\n",
    "# !pip3 install python-statemachine\n",
    "# !pip3 install mesa\n",
    "# !pip3 install transitions\n",
    "# !pip3 install scipy\n",
    "# !pip3 install cufflinks\n",
    "# !pip3 install graphviz pygraphviz\n",
    "# !pip3 install graphviz\n",
    "# !pip3 install transitions[diagrams]\n",
    "# !pip3 uninstall mesa"
   ]
  },
  {
   "attachments": {},
   "cell_type": "markdown",
   "metadata": {},
   "source": [
    "Package importation"
   ]
  },
  {
   "cell_type": "code",
   "execution_count": 1,
   "metadata": {},
   "outputs": [
    {
     "data": {
      "text/html": [
       "        <script type=\"text/javascript\">\n",
       "        window.PlotlyConfig = {MathJaxConfig: 'local'};\n",
       "        if (window.MathJax && window.MathJax.Hub && window.MathJax.Hub.Config) {window.MathJax.Hub.Config({SVG: {font: \"STIX-Web\"}});}\n",
       "        if (typeof require !== 'undefined') {\n",
       "        require.undef(\"plotly\");\n",
       "        requirejs.config({\n",
       "            paths: {\n",
       "                'plotly': ['https://cdn.plot.ly/plotly-2.18.2.min']\n",
       "            }\n",
       "        });\n",
       "        require(['plotly'], function(Plotly) {\n",
       "            window._Plotly = Plotly;\n",
       "        });\n",
       "        }\n",
       "        </script>\n",
       "        "
      ]
     },
     "metadata": {},
     "output_type": "display_data"
    }
   ],
   "source": [
    "# imports\n",
    "import os\n",
    "import seaborn as sns\n",
    "from random import choice\n",
    "import warnings\n",
    "warnings.simplefilter(\"ignore\")\n",
    "import pandas as pd\n",
    "import numpy as np\n",
    "import mesa\n",
    "from mesa import Agent, Model\n",
    "from mesa.time import RandomActivation, RandomActivationByType, SimultaneousActivation\n",
    "from mesa.datacollection import DataCollector\n",
    "from matplotlib import pyplot as plt, patches\n",
    "import scipy.stats as ss\n",
    "import cufflinks as cf\n",
    "cf.go_offline()\n",
    "from plotly.offline import iplot\n",
    "from transitions import Machine\n",
    "import random\n",
    "from transitions.extensions import GraphMachine\n",
    "import graphviz\n",
    "import timeit\n",
    "from datetime import datetime\n",
    "import logging\n",
    "from collections import Counter\n",
    "import networkx as nx\n",
    "\n",
    "# os.environ[\"PATH\"] += os.pathsep + '/Users/ia329/homebrew/bin' # for graphviz"
   ]
  },
  {
   "attachments": {},
   "cell_type": "markdown",
   "metadata": {},
   "source": [
    "Model component importation"
   ]
  },
  {
   "cell_type": "code",
   "execution_count": 2,
   "metadata": {},
   "outputs": [
    {
     "data": {
      "text/html": [
       "        <script type=\"text/javascript\">\n",
       "        window.PlotlyConfig = {MathJaxConfig: 'local'};\n",
       "        if (window.MathJax && window.MathJax.Hub && window.MathJax.Hub.Config) {window.MathJax.Hub.Config({SVG: {font: \"STIX-Web\"}});}\n",
       "        if (typeof require !== 'undefined') {\n",
       "        require.undef(\"plotly\");\n",
       "        requirejs.config({\n",
       "            paths: {\n",
       "                'plotly': ['https://cdn.plot.ly/plotly-2.18.2.min']\n",
       "            }\n",
       "        });\n",
       "        require(['plotly'], function(Plotly) {\n",
       "            window._Plotly = Plotly;\n",
       "        });\n",
       "        }\n",
       "        </script>\n",
       "        "
      ]
     },
     "metadata": {},
     "output_type": "display_data"
    }
   ],
   "source": [
    "import EV.model_config as cfg\n",
    "import EV.worker as worker\n",
    "from EV.agent import EV, ChargeStation\n",
    "import EV.model as model\n",
    "from EV.statemachines import EVSM, LSM\n",
    "from EV.modelquery import get_evs_charge, get_evs_charge_level, get_evs_active, get_evs_queue, get_evs_travel, get_evs_not_idle, get_active_chargestations, get_eod_evs_socs, get_evs_destinations, get_ev_distance_covered"
   ]
  },
  {
   "attachments": {},
   "cell_type": "markdown",
   "metadata": {},
   "source": [
    "## Model Environment testing"
   ]
  },
  {
   "attachments": {},
   "cell_type": "markdown",
   "metadata": {},
   "source": [
    "Station config import"
   ]
  },
  {
   "cell_type": "code",
   "execution_count": 3,
   "metadata": {},
   "outputs": [
    {
     "ename": "NameError",
     "evalue": "name 'station_config' is not defined",
     "output_type": "error",
     "traceback": [
      "\u001b[0;31m---------------------------------------------------------------------------\u001b[0m",
      "\u001b[0;31mNameError\u001b[0m                                 Traceback (most recent call last)",
      "Cell \u001b[0;32mIn[3], line 1\u001b[0m\n\u001b[0;32m----> 1\u001b[0m station_config[\u001b[39m'\u001b[39m\u001b[39mA-B\u001b[39m\u001b[39m'\u001b[39m][\u001b[39m'\u001b[39m\u001b[39mCS_AB_1\u001b[39m\u001b[39m'\u001b[39m]\n\u001b[1;32m      2\u001b[0m \u001b[39m# worker.sum_total_charging_stations(station_config)\u001b[39;00m\n",
      "\u001b[0;31mNameError\u001b[0m: name 'station_config' is not defined"
     ]
    }
   ],
   "source": [
    "station_config['A-B']['CS_AB_1']\n",
    "# worker.sum_total_charging_stations(station_config)"
   ]
  },
  {
   "cell_type": "code",
   "execution_count": null,
   "metadata": {},
   "outputs": [],
   "source": [
    "# {'A-B': {'CS_A-B_1': [{'CPID': 'CS_A-B_1_1',\n",
    "#     'Power': '7',\n",
    "#     'Distance': '40',\n",
    "#     'Price': '6',\n",
    "#     'Green': '0',\n",
    "#     'Booking': '0'},\n",
    "#    {'CPID': 'CS_A-B_1_2',\n",
    "#     'Power': '7',\n",
    "#     'Distance': '40',\n",
    "#     'Price': '6',\n",
    "#     'Green': '0',\n",
    "#     'Booking': '0'},\n",
    "#    {'CPID': 'CS_A-B_1_3',\n",
    "#     'Power': '60',\n",
    "#     'Distance': '40',\n",
    "#     'Price': '10',\n",
    "#     'Green': '0',\n",
    "#     'Booking': '0'}],\n",
    "#   'CS_A-B_2': [{'CPID': 'CS_A-B_2_1',\n",
    "#     'Power': '7',\n",
    "#     'Distance': '20',\n",
    "#     'Price': '6',\n",
    "#     'Green': '0',\n",
    "#     'Booking': '0'},\n",
    "#    {'CPID': 'CS_A-B_2_2',\n",
    "#     'Power': '7',\n",
    "#     'Distance': '20',\n",
    "#     'Price': '6',\n",
    "#     'Green': '0',\n",
    "#     'Booking': '0'}],\n",
    "#   'CS_A-B_3': [{'CPID': 'CS_A-B_3_1',\n",
    "#     'Power': '7',\n",
    "#     'Distance': '50',\n",
    "#     'Price': '6',\n",
    "#     'Green': '0',\n",
    "#     'Booking': '0'},\n",
    "#    {'CPID': 'CS_A-B_3_2',\n",
    "#     'Power': '7',\n",
    "#     'Distance': '50',\n",
    "#     'Price': '6',\n",
    "#     'Green': '0',\n",
    "#     'Booking': '0'},\n",
    "#    {'CPID': 'CS_A-B_3_3',\n",
    "#     'Power': '60',\n",
    "#     'Distance': '50',\n",
    "#     'Price': '10',\n",
    "#     'Green': '0',\n",
    "#     'Booking': '0'}],\n",
    "#   'CS_A-B_4': [{'CPID': 'CS_A-B_4_1',\n",
    "#     'Power': '7',\n",
    "#     'Distance': '10',\n",
    "#     'Price': '6',\n",
    "#     'Green': '0',\n",
    "#     'Booking': '0'},\n",
    "#    {'CPID': 'CS_A-B_4_2',\n",
    "#     'Power': '7',\n",
    "#     'Distance': '10',\n",
    "#     'Price': '6',\n",
    "#     'Green': '0',\n",
    "#     'Booking': '0'},\n",
    "#    {'CPID': 'CS_A-B_4_3',\n",
    "#     'Power': '60',\n",
    "#     'Distance': '10',\n",
    "#     'Price': '10',\n",
    "#     'Green': '0',\n",
    "#     'Booking': '0'}],\n",
    "#   'CS_A-B_5': [{'CPID': 'CS_A-B_5_1',\n",
    "#     'Power': '7',\n",
    "#     'Distance': '30',\n",
    "#     'Price': '6',\n",
    "#     'Green': '0',\n",
    "#     'Booking': '0'},\n",
    "#    {'CPID': 'CS_A-B_5_2',\n",
    "#     'Power': '7',\n",
    "#     'Distance': '30',\n",
    "#     'Price': '6',\n",
    "#     'Green': '0',\n",
    "#     'Booking': '0'},\n",
    "#    {'CPID': 'CS_A-B_5_3',\n",
    "#     'Power': '7',\n",
    "#     'Distance': '30',\n",
    "#     'Price': '6',\n",
    "#     'Green': '0',\n",
    "#     'Booking': '0'}]},\n",
    "#  'A-C': {'CS_A-C_1': [{'CPID': 'CS_A-C_1_1',\n",
    "#     'Power': '7',\n",
    "#     'Distance': '40',\n",
    "#     'Price': '6',\n",
    "#     'Green': '0',\n",
    "#     'Booking': '0'},\n",
    "#    {'CPID': 'CS_A-C_1_2',\n",
    "#     'Power': '7',\n",
    "#     'Distance': '40',\n",
    "#     'Price': '6',\n",
    "#     'Green': '0',\n",
    "#     'Booking': '0'}],\n",
    "#   'CS_A-C_2': [{'CPID': 'CS_A-C_2_1',\n",
    "#     'Power': '7',\n",
    "#     'Distance': '40',\n",
    "#     'Price': '6',\n",
    "#     'Green': '0',\n",
    "#     'Booking': '0'},\n",
    "#    {'CPID': 'CS_A-C_2_2',\n",
    "#     'Power': '7',\n",
    "#     'Distance': '40',\n",
    "#     'Price': '6',\n",
    "#     'Green': '0',\n",
    "#     'Booking': '0'}],\n",
    "#   'CS_A-C_3': [{'CPID': 'CS_A-C_3_1',\n",
    "#     'Power': '7',\n",
    "#     'Distance': '40',\n",
    "#     'Price': '6',\n",
    "#     'Green': '0',\n",
    "#     'Booking': '0'},\n",
    "#    {'CPID': 'CS_A-C_3_2',\n",
    "#     'Power': '7',\n",
    "#     'Distance': '40',\n",
    "#     'Price': '6',\n",
    "#     'Green': '0',\n",
    "#     'Booking': '0'}],\n",
    "#   'CS_A-C_4': [{'CPID': 'CS_A-C_4_1',\n",
    "#     'Power': '7',\n",
    "#     'Distance': '40',\n",
    "#     'Price': '6',\n",
    "#     'Green': '0',\n",
    "#     'Booking': '0'},\n",
    "#    {'CPID': 'CS_A-C_4_2',\n",
    "#     'Power': '7',\n",
    "#     'Distance': '40',\n",
    "#     'Price': '6',\n",
    "#     'Green': '0',\n",
    "#     'Booking': '0'}]}}\n"
   ]
  },
  {
   "cell_type": "code",
   "execution_count": null,
   "metadata": {},
   "outputs": [],
   "source": [
    "# worker.get_routes(station_config)                   #works\n",
    "worker.find_cpid_for_charging_station(station_config, 'CS_A-C_1')                 # doesnt work, anymore due to new structure"
   ]
  },
  {
   "cell_type": "code",
   "execution_count": null,
   "metadata": {},
   "outputs": [],
   "source": [
    "# worker.count_charging_stations('A-B', station_config)\n",
    "\n",
    "\n",
    "\n",
    "# worker.get_target_charging_stations('A-B', station_config)                   # Works\n",
    "# worker.sum_total_charging_stations(station_config)                           # Works   \n",
    "# worker.get_routes(station_config)                                            # Works\n",
    "# worker.total_route_length(station_config, 'A-B')                             # Works\n",
    "# worker.cpids_for_route(station_config, 'A-B') # not working\n",
    "\n",
    "# worker.get_checkpoint_list(station_config, 'A-C')                           # Works\n",
    "# worker.get_charging_stations_on_route(station_config, 'A-C')                    # Works\n",
    "# worker.charge_points_on_route(station_config, 'A-B')                    # not working\n",
    "# worker.get_route_cps(station_config, 'A-B')                              #not working snymore\n",
    "\n",
    "# worker.find_cpid_for_charging_station(station_config, 'CS_AB_1_1')                    # not works\n",
    "\n"
   ]
  },
  {
   "cell_type": "code",
   "execution_count": null,
   "metadata": {},
   "outputs": [],
   "source": [
    "a = worker.get_routes(station_config)\n",
    "print(len(a))  \n",
    "print(a)"
   ]
  },
  {
   "cell_type": "code",
   "execution_count": null,
   "metadata": {},
   "outputs": [],
   "source": [
    "# worker.get_checkpoint_list(station_config, 'A-B')\n",
    "# worker.charge_points_on_route('A-B', station_config)\n",
    "# worker.get_charge_points_per_station('A-B', station_config)"
   ]
  },
  {
   "cell_type": "code",
   "execution_count": null,
   "metadata": {},
   "outputs": [],
   "source": [
    "station_config = worker.read_charging_data(cfg.STATION_PATH +'stations.csv')"
   ]
  },
  {
   "cell_type": "code",
   "execution_count": null,
   "metadata": {},
   "outputs": [],
   "source": [
    "worker.num_stations_per_route(station_config)"
   ]
  },
  {
   "cell_type": "code",
   "execution_count": null,
   "metadata": {},
   "outputs": [],
   "source": [
    "# station_config   "
   ]
  },
  {
   "cell_type": "code",
   "execution_count": null,
   "metadata": {},
   "outputs": [],
   "source": [
    "# worker.get_stations_for_route('A-B', station_config)\n",
    "# stations = worker.get_stations_for_route('A-B', station_config)\n",
    "# print(stations)  # Output: ['CS_A-B_1', 'CS_A-B_2', 'CS_A-B_3', 'CS_A-B_4', 'CS_A-B_5']\n"
   ]
  },
  {
   "cell_type": "markdown",
   "metadata": {},
   "source": []
  },
  {
   "attachments": {},
   "cell_type": "markdown",
   "metadata": {},
   "source": [
    "From input matrix to model params"
   ]
  },
  {
   "attachments": {},
   "cell_type": "markdown",
   "metadata": {},
   "source": [
    "Approach 2"
   ]
  },
  {
   "cell_type": "code",
   "execution_count": null,
   "metadata": {},
   "outputs": [],
   "source": [
    "station_config = worker.read_charging_stations(cfg.STATION_PATH +'stations.csv')"
   ]
  },
  {
   "cell_type": "code",
   "execution_count": null,
   "metadata": {},
   "outputs": [],
   "source": [
    "route_counts = Counter([station['Route'] for station in station_config])\n",
    "print(route_counts)"
   ]
  },
  {
   "cell_type": "code",
   "execution_count": null,
   "metadata": {},
   "outputs": [],
   "source": [
    "points_per_station_per_route = {}\n",
    "for station in station_config:\n",
    "    key = f\"{station['Route']}_{station['Station']}\"\n",
    "    if key not in points_per_station_per_route:\n",
    "        points_per_station_per_route[key] = []\n",
    "    points_per_station_per_route[key].append(station['CPID'])\n",
    "# print(points_per_station_per_route)\n",
    "print(points_per_station_per_route.keys())"
   ]
  },
  {
   "cell_type": "code",
   "execution_count": null,
   "metadata": {},
   "outputs": [],
   "source": [
    "routes = list(set([station['Route'] for station in station_config]))\n",
    "print(routes)"
   ]
  },
  {
   "cell_type": "code",
   "execution_count": null,
   "metadata": {},
   "outputs": [],
   "source": [
    "num_routes = len(routes)\n",
    "print(num_routes)"
   ]
  },
  {
   "attachments": {},
   "cell_type": "markdown",
   "metadata": {},
   "source": [
    "## Valid Model Environment"
   ]
  },
  {
   "attachments": {},
   "cell_type": "markdown",
   "metadata": {},
   "source": [
    "Approach 3"
   ]
  },
  {
   "cell_type": "code",
   "execution_count": 8,
   "metadata": {},
   "outputs": [],
   "source": [
    "# station_config = worker.read_csv(cfg.STATION_PATH +'stations.csv')\n",
    "station_config = cfg.station_config\n",
    "station_config\n"
   ]
  },
  {
   "cell_type": "code",
   "execution_count": 26,
   "metadata": {},
   "outputs": [
    {
     "name": "stdout",
     "output_type": "stream",
     "text": [
      "{'A-B': 1, 'A-C': 2, 'A-D': 2, 'B-C': 2, 'B-D': 1, 'C-D': 1}\n"
     ]
    }
   ],
   "source": [
    "# get the number of charging stations per route\n",
    "stations_per_route = {route: len(station_config[route]) for route in station_config}\n",
    "print(stations_per_route)"
   ]
  },
  {
   "cell_type": "code",
   "execution_count": 27,
   "metadata": {},
   "outputs": [
    {
     "name": "stdout",
     "output_type": "stream",
     "text": [
      "{'A-B': {'CS_A-B_1': 2}, 'A-C': {'CS_A-C_1': 3, 'CS_A-C_2': 2}, 'A-D': {'CS_A-D_1': 3, 'CS_A-D_2': 3}, 'B-C': {'CS_B-C_1': 2, 'CS_B-C_2': 3}, 'B-D': {'CS_B-D_1': 1}, 'C-D': {'CS_C-D_1': 2}}\n"
     ]
    }
   ],
   "source": [
    "# get the number of charging points per station per route\n",
    "points_per_station_per_route = {}\n",
    "for route in station_config:\n",
    "    for station in station_config[route]:\n",
    "        num_points = len(station_config[route][station])\n",
    "        if route not in points_per_station_per_route:\n",
    "            points_per_station_per_route[route] = {}\n",
    "        points_per_station_per_route[route][station] = num_points\n",
    "print(points_per_station_per_route)"
   ]
  },
  {
   "cell_type": "code",
   "execution_count": 28,
   "metadata": {},
   "outputs": [
    {
     "name": "stdout",
     "output_type": "stream",
     "text": [
      "dict_keys(['A-B', 'A-C', 'A-D', 'B-C', 'B-D', 'C-D'])\n",
      "6\n"
     ]
    }
   ],
   "source": [
    "# get a list of all routes\n",
    "routes = station_config.keys()\n",
    "print(routes)\n",
    "\n",
    "# get the total number of routes\n",
    "num_routes = len(routes)\n",
    "print(num_routes)"
   ]
  },
  {
   "cell_type": "code",
   "execution_count": 29,
   "metadata": {},
   "outputs": [
    {
     "data": {
      "text/plain": [
       "{'CS_A-B_1': 2}"
      ]
     },
     "execution_count": 29,
     "metadata": {},
     "output_type": "execute_result"
    }
   ],
   "source": [
    "# worker.get_charge_points_per_station_on_route(station_config, 'A-B')\n",
    "cs = worker.count_charge_points_by_station(station_config, 'A-B')                        #works\n",
    "# type(cs)\n",
    "# b = cs.values()\n",
    "# b = list(b)\n",
    "# type(b)\n",
    "cs"
   ]
  },
  {
   "cell_type": "code",
   "execution_count": 29,
   "metadata": {},
   "outputs": [
    {
     "name": "stdout",
     "output_type": "stream",
     "text": [
      "['CS_A-C_1', 'CS_A-C_2']\n"
     ]
    }
   ],
   "source": [
    "a = worker.get_charging_stations_on_route(station_config, 'A-C') \n",
    "print(a)"
   ]
  },
  {
   "cell_type": "code",
   "execution_count": 30,
   "metadata": {},
   "outputs": [
    {
     "name": "stdout",
     "output_type": "stream",
     "text": [
      "{'40': [{'CPID': 'CS_AC_1_1', 'Power': '22', 'Distance': '40', 'Price': '70.4', 'Green': '10', 'Booking': '0'}, {'CPID': 'CS_AC_1_2', 'Power': '22', 'Distance': '40', 'Price': '70.4', 'Green': '10', 'Booking': '0'}, {'CPID': 'CS_AC_1_3', 'Power': '50', 'Distance': '40', 'Price': '70.4', 'Green': '10', 'Booking': '0'}, {'CPID': 'CS_AC_2_1', 'Power': '22', 'Distance': '40', 'Price': '70.4', 'Green': '10', 'Booking': '0'}, {'CPID': 'CS_AC_2_2', 'Power': '22', 'Distance': '40', 'Price': '70.4', 'Green': '10', 'Booking': '0'}]}\n"
     ]
    }
   ],
   "source": [
    "cs = worker.get_route_from_config('A-C', station_config)  \n",
    "print(cs)"
   ]
  },
  {
   "cell_type": "code",
   "execution_count": null,
   "metadata": {},
   "outputs": [],
   "source": [
    "def cumulative_cs_distances(numbers):\n",
    "    result = []\n",
    "    for i in range(len(numbers)):\n",
    "        if i == 0:\n",
    "            result.append(numbers[i])\n",
    "        else:\n",
    "            result.append(numbers[i] + result[i-1])\n",
    "    return result\n",
    "\n",
    "def get_values(d):\n",
    "    \"\"\"\n",
    "    Returns a list containing the associated values for each key in the dictionary.\n",
    "    \"\"\"\n",
    "    return list(d.values())\n"
   ]
  },
  {
   "cell_type": "code",
   "execution_count": null,
   "metadata": {},
   "outputs": [],
   "source": [
    "# worker.get_cumulative_distances('A-B', station_config)\n",
    "list = ['a', 'b', 'c', 'd', 'e']"
   ]
  },
  {
   "cell_type": "code",
   "execution_count": null,
   "metadata": {},
   "outputs": [],
   "source": [
    "a = worker.remove_list_item_seq(list)\n",
    "print(a)\n",
    "b = worker.remove_list_item_seq(list)\n",
    "print(b)\n",
    "c = worker.remove_list_item_seq(list)\n",
    "print(c)\n",
    "d = worker.remove_list_item_seq(list)\n",
    "print(d)\n",
    "e = worker.remove_list_item_seq(list)\n",
    "print(e)\n",
    "print(len(list))"
   ]
  },
  {
   "cell_type": "code",
   "execution_count": null,
   "metadata": {},
   "outputs": [],
   "source": [
    "def select_route_as_key(input):\n",
    "    \"\"\"\n",
    "    This function returns one of the keys in input dictionary, up to the integer value of the key\n",
    "    \"\"\"\n",
    "    # calculate the sum of values in the input dictionary\n",
    "    n = sum(input.values())\n",
    "    \n",
    "    # create a dictionary to keep track of the number of times each key is returned\n",
    "    counter = {key: 0 for key in input}\n",
    "    \n",
    "    # select a key and return it as a string\n",
    "    def helper():\n",
    "        for key in input:\n",
    "            if counter[key] < input[key]:\n",
    "                counter[key] += 1\n",
    "                return str(key)\n",
    "        # if all keys have been returned the maximum number of times, raise an exception\n",
    "        raise Exception('no more route assignments')\n",
    "    \n",
    "    # keep track of the number of times the function has been run\n",
    "    num_runs = 0\n",
    "    \n",
    "    # run the function at most n times\n",
    "    while num_runs < n:\n",
    "        try:\n",
    "            key = helper()\n",
    "            num_runs += 1\n",
    "            yield key\n",
    "        except Exception as e:\n",
    "            yield str(e)\n",
    "            return\n"
   ]
  },
  {
   "cell_type": "code",
   "execution_count": null,
   "metadata": {},
   "outputs": [],
   "source": [
    "input_dict = {'key1': 4, 'key2': 1, 'key3': 1}\n",
    "for key in select_route_as_key(input_dict):\n",
    "    print(key)"
   ]
  },
  {
   "cell_type": "code",
   "execution_count": 14,
   "metadata": {},
   "outputs": [],
   "source": [
    "def get_charging_stations_along_route(station_config, route_name):\n",
    "    \"\"\"\n",
    "    Returns a dictionary of charging stations along the route. \n",
    "    The key is the station name and the value is the distance from the start of the route.   \n",
    "    \"\"\"\n",
    "    charging_stations = {}\n",
    "    route_stations = station_config.get(route_name)\n",
    "    if route_stations:\n",
    "        for station_name, station_data in route_stations.items():\n",
    "            for station in station_data:\n",
    "                charging_stations[station_name] = int(station['Distance'])\n",
    "    return charging_stations\n"
   ]
  },
  {
   "cell_type": "code",
   "execution_count": 15,
   "metadata": {},
   "outputs": [
    {
     "ename": "NameError",
     "evalue": "name 'station_config' is not defined",
     "output_type": "error",
     "traceback": [
      "\u001b[0;31m---------------------------------------------------------------------------\u001b[0m",
      "\u001b[0;31mNameError\u001b[0m                                 Traceback (most recent call last)",
      "Cell \u001b[0;32mIn[15], line 3\u001b[0m\n\u001b[1;32m      1\u001b[0m \u001b[39m# a = get_charging_stations_along_route(station_config, 'A-B')\u001b[39;00m\n\u001b[1;32m      2\u001b[0m \u001b[39m# print(a)\u001b[39;00m\n\u001b[0;32m----> 3\u001b[0m b \u001b[39m=\u001b[39m worker\u001b[39m.\u001b[39mget_dict_values(worker\u001b[39m.\u001b[39mget_charging_stations_along_route(station_config, \u001b[39m'\u001b[39m\u001b[39mA-B\u001b[39m\u001b[39m'\u001b[39m))\n\u001b[1;32m      4\u001b[0m \u001b[39mprint\u001b[39m(b)\n\u001b[1;32m      5\u001b[0m c \u001b[39m=\u001b[39m worker\u001b[39m.\u001b[39mcumulative_cs_distances(b)\n",
      "\u001b[0;31mNameError\u001b[0m: name 'station_config' is not defined"
     ]
    }
   ],
   "source": [
    "# a = get_charging_stations_along_route(station_config, 'A-B')\n",
    "# print(a)\n",
    "b = worker.get_dict_values(worker.get_charging_stations_along_route(station_config, 'A-B'))\n",
    "print(b)\n",
    "c = worker.cumulative_cs_distances(b)\n",
    "print(c)\n"
   ]
  },
  {
   "cell_type": "code",
   "execution_count": 31,
   "metadata": {},
   "outputs": [],
   "source": [
    "\n",
    "def get_power_values(station_config, route_name):\n",
    "    \"\"\"Returns a list of all distance values, for every CP on a given route.\"\"\"\n",
    "    distance_values = []\n",
    "    for station in station_config[route_name]:\n",
    "        for charger in station_config[route_name][station]:\n",
    "            distance_values.append(int(charger['Power']))\n",
    "    return distance_values"
   ]
  },
  {
   "cell_type": "code",
   "execution_count": 32,
   "metadata": {},
   "outputs": [
    {
     "name": "stdout",
     "output_type": "stream",
     "text": [
      "[22, 7]\n"
     ]
    }
   ],
   "source": [
    "a = get_power_values(station_config, 'A-B')\n",
    "print(a)"
   ]
  },
  {
   "cell_type": "code",
   "execution_count": 5,
   "metadata": {},
   "outputs": [],
   "source": [
    "def get_power_values_route(station_config, route_name):\n",
    "    \"\"\"Returns a dict with Charge station name as key and list of power values for each charge point in the station, for a given route.\"\"\"\n",
    "    power_dict = {}\n",
    "    for station in station_config[route_name]:\n",
    "        cp_power = []\n",
    "        for charger in station_config[route_name][station]:\n",
    "            cp_power.append(int(charger['Power']))\n",
    "        power_dict[station] = cp_power\n",
    "    return power_dict\n"
   ]
  },
  {
   "cell_type": "code",
   "execution_count": 47,
   "metadata": {},
   "outputs": [
    {
     "name": "stdout",
     "output_type": "stream",
     "text": [
      "None\n"
     ]
    }
   ],
   "source": [
    "# b = worker.get_power_value_for_cp(station_config, 'B-C', 'B-C_2', 2)\n",
    "# print(b)"
   ]
  },
  {
   "cell_type": "code",
   "execution_count": 10,
   "metadata": {},
   "outputs": [
    {
     "name": "stdout",
     "output_type": "stream",
     "text": [
      "{'CS_B-C_1': [50, 50], 'CS_B-C_2': [22, 22, 50]}\n"
     ]
    }
   ],
   "source": [
    "a = worker.get_power_values_route(station_config, 'B-C')\n",
    "print(a)"
   ]
  },
  {
   "cell_type": "code",
   "execution_count": 59,
   "metadata": {},
   "outputs": [],
   "source": [
    "# def get_value(dictionary, input_string, index):\n",
    "#     for key in dictionary:\n",
    "#         if input_string in key:\n",
    "#             return dictionary[key][index]\n",
    "#     return None\n",
    "\n",
    "def get_cp_value(dictionary, input_string, index):\n",
    "    for key in dictionary:\n",
    "        if input_string in key:\n",
    "            return dictionary[key][index - 1]\n",
    "    return None\n"
   ]
  },
  {
   "cell_type": "code",
   "execution_count": null,
   "metadata": {},
   "outputs": [],
   "source": [
    "# get_value(a, 'CS_B-C_1', 1)"
   ]
  },
  {
   "cell_type": "code",
   "execution_count": 25,
   "metadata": {},
   "outputs": [
    {
     "data": {
      "text/plain": [
       "22"
      ]
     },
     "execution_count": 25,
     "metadata": {},
     "output_type": "execute_result"
    }
   ],
   "source": [
    "worker.get_cp_value(a, 'CS_B-C_2', worker.cp_name_to_cp_number('cp_1'))"
   ]
  },
  {
   "cell_type": "code",
   "execution_count": 55,
   "metadata": {},
   "outputs": [
    {
     "data": {
      "text/plain": [
       "1"
      ]
     },
     "execution_count": 55,
     "metadata": {},
     "output_type": "execute_result"
    }
   ],
   "source": [
    "worker.cp_name_to_cp_number('cp_1')"
   ]
  },
  {
   "cell_type": "code",
   "execution_count": 37,
   "metadata": {},
   "outputs": [
    {
     "name": "stdout",
     "output_type": "stream",
     "text": [
      "Abuja\n"
     ]
    }
   ],
   "source": [
    "def get_string_after_hyphen(string):\n",
    "    \"\"\"\n",
    "    Given a string that contains a hyphen, returns the part of the string after the hyphen.\n",
    "    If the string does not contain a hyphen, returns an empty string.\n",
    "    \"\"\"\n",
    "    if '-' in string:\n",
    "        return string.split('-')[1]\n",
    "    else:\n",
    "        return ''\n",
    "a = get_string_after_hyphen('Lagos-Abuja')\n",
    "print(a)"
   ]
  },
  {
   "attachments": {},
   "cell_type": "markdown",
   "metadata": {},
   "source": [
    "Model parameters"
   ]
  },
  {
   "cell_type": "code",
   "execution_count": null,
   "metadata": {},
   "outputs": [],
   "source": [
    "class Object(object):\n",
    "    def __init__(self):\n",
    "        self.post_1 = 0\n",
    "        self.post_2 = 3\n",
    "        self.post_3 = 9\n",
    "        self.points = [20,40,60]\n",
    "\n",
    "def get_value_by_index(obj, index):\n",
    "    post_attrs = sorted([key for key in vars(obj) if key.startswith('post_')], key=lambda x: int(x.split('_')[1]))\n",
    "    post_key = post_attrs[index-1]\n",
    "    post_value = getattr(obj, post_key)\n",
    "    points_value = obj.points[index-1]\n",
    "    return post_value * points_value\n",
    "\n",
    "obj = Object()\n",
    "value = get_value_by_index(obj, 3) # returns 540\n",
    "print(value)"
   ]
  },
  {
   "cell_type": "code",
   "execution_count": null,
   "metadata": {},
   "outputs": [],
   "source": [
    "# 365 days = 8760 hours, 30 days = 720 hours, 2 days = 48 hours, 7 days = 168 hours\n",
    "ticks = 48\n",
    "no_evs = 2"
   ]
  },
  {
   "cell_type": "code",
   "execution_count": 38,
   "metadata": {},
   "outputs": [],
   "source": [
    "def reverse_strings(string_list):\n",
    "    reversed_list = []\n",
    "    for string in string_list:\n",
    "        reversed_list.append(string[::-1])\n",
    "    return reversed_list"
   ]
  },
  {
   "cell_type": "code",
   "execution_count": 39,
   "metadata": {},
   "outputs": [
    {
     "name": "stdout",
     "output_type": "stream",
     "text": [
      "['A-B', 'B-C', 'A-C', 'B-A', 'C-B', 'C-A']\n"
     ]
    }
   ],
   "source": [
    "a = ['A-B', 'B-C', 'A-C']\n",
    "b = worker.reverse_strings(a)\n",
    "for i in b:\n",
    "    a.append(i)\n",
    "print(a)"
   ]
  },
  {
   "cell_type": "code",
   "execution_count": 40,
   "metadata": {},
   "outputs": [],
   "source": [
    "def get_possible_journeys(current_location, permutation):\n",
    "    cities = ['A', 'B', 'C', 'D']\n",
    "    journeys = []\n",
    "    \n",
    "    for p in permutation:\n",
    "        if p == current_location:\n",
    "            continue\n",
    "        elif p in cities:\n",
    "            journeys.append(current_location + '-' + p)\n",
    "        else:\n",
    "            for c in cities:\n",
    "                if c != current_location:\n",
    "                    journeys.append(current_location + '-' + c + '-' + p)\n",
    "    \n",
    "    return journeys\n",
    "\n",
    "def get_possible_destinations(current_position):\n",
    "    cities = ['A', 'B', 'C', 'D']\n",
    "    destinations = []\n",
    "    \n",
    "    for city in cities:\n",
    "        if city == current_position:\n",
    "            continue\n",
    "        else:\n",
    "            destinations.append(city)\n",
    "    \n",
    "    return destinations\n",
    "\n",
    "def get_possible_journeys_long(current_position):\n",
    "    cities = ['A', 'B', 'C', 'D']\n",
    "    journeys = []\n",
    "    \n",
    "    for city in cities:\n",
    "        if city == current_position:\n",
    "            continue\n",
    "        else:\n",
    "            journeys.append(current_position + '-' + city)\n",
    "    \n",
    "    return journeys\n",
    "\n"
   ]
  },
  {
   "cell_type": "code",
   "execution_count": 41,
   "metadata": {},
   "outputs": [
    {
     "data": {
      "text/plain": [
       "['B', 'C', 'D']"
      ]
     },
     "execution_count": 41,
     "metadata": {},
     "output_type": "execute_result"
    }
   ],
   "source": [
    "# get_possible_journeys('A', 'B')\n",
    "get_possible_destinations('A')\n",
    "# get_possible_journeys_long('D')"
   ]
  },
  {
   "attachments": {},
   "cell_type": "markdown",
   "metadata": {},
   "source": [
    "NetworkX"
   ]
  },
  {
   "cell_type": "code",
   "execution_count": null,
   "metadata": {},
   "outputs": [],
   "source": [
    "import matplotlib.pyplot as plt\n",
    "import networkx as nx\n",
    "import matplotlib.animation as animation\n",
    "import matplotlib\n",
    "import numpy as np\n",
    "\n",
    "matplotlib.use('TkAgg')\n",
    "plt.ion()\n",
    "\n",
    "H = nx.octahedral_graph()  # generate a random graph\n",
    "pos = nx.spring_layout(H, iterations=200)  # find good positions for nodes"
   ]
  },
  {
   "cell_type": "code",
   "execution_count": null,
   "metadata": {},
   "outputs": [],
   "source": [
    "# nodes = list(range(100))\n",
    "\n",
    "# df = pd.DataFrame({'from': np.random.choice(nodes, 100),\n",
    "#                    'to': np.random.choice(nodes,100)\n",
    "#                   })\n",
    "\n",
    "nodes = ['A', 'B', 'C', 'D']\n",
    "\n",
    "df = pd.DataFrame({'from': np.random.choice(nodes, len(nodes)),\n",
    "                   'to': np.random.choice(nodes,len(nodes))\n",
    "                  })"
   ]
  },
  {
   "cell_type": "code",
   "execution_count": null,
   "metadata": {},
   "outputs": [],
   "source": [
    "for i in range(len(nodes)):\n",
    "    df['from'][i] = nodes[i]\n",
    "    df['to'][i] = nodes[i]\n",
    "# get_possible_destinations('A')"
   ]
  },
  {
   "cell_type": "code",
   "execution_count": null,
   "metadata": {},
   "outputs": [],
   "source": [
    "G = nx.from_pandas_edgelist(df, source='from', target='to')\n",
    "nx.draw(G);\n",
    "plt.hist([v for k,v in nx.degree(G)]);"
   ]
  },
  {
   "cell_type": "code",
   "execution_count": null,
   "metadata": {},
   "outputs": [],
   "source": [
    "import networkx as nx\n",
    "\n",
    "def create_charging_network(station_config):\n",
    "    G = nx.Graph()\n",
    "\n",
    "    # Add city nodes to graph\n",
    "    cities = set()\n",
    "    for route, config in station_config.items():\n",
    "        cities.update([route.split('-')[0], route.split('-')[1]])\n",
    "    for city in cities:\n",
    "        G.add_node(city, node_type='city')\n",
    "\n",
    "    # Add charging station nodes and edges to graph\n",
    "    for route, config in station_config.items():\n",
    "        start_city = route.split('-')[0]\n",
    "        end_city = route.split('-')[1]\n",
    "\n",
    "        # Add start and end city nodes to graph\n",
    "        G.add_edge(start_city, end_city, edge_type='route')\n",
    "\n",
    "        # Add charging station nodes to graph\n",
    "        for station_id in config:\n",
    "            G.add_node(station_id, node_type='station')\n",
    "            G.add_edge(start_city, station_id)\n",
    "            G.add_edge(station_id, end_city)\n",
    "\n",
    "    return G\n",
    "\n",
    "G = create_charging_network(station_config)\n"
   ]
  },
  {
   "cell_type": "code",
   "execution_count": null,
   "metadata": {},
   "outputs": [],
   "source": [
    "import networkx as nx\n",
    "import matplotlib.pyplot as plt\n",
    "\n",
    "# assume the returned graph object is stored in variable G\n",
    "nx.draw(G, with_labels=True)\n",
    "plt.show()\n"
   ]
  },
  {
   "attachments": {},
   "cell_type": "markdown",
   "metadata": {},
   "source": [
    "Run Model"
   ]
  },
  {
   "cell_type": "code",
   "execution_count": null,
   "metadata": {},
   "outputs": [],
   "source": [
    "model_run = model.EVModel(ticks=ticks, no_evs=no_evs, params=station_config)\n",
    "for i in range(ticks):\n",
    "    model_run.step()"
   ]
  },
  {
   "cell_type": "code",
   "execution_count": null,
   "metadata": {},
   "outputs": [],
   "source": [
    "# model_run.schedule.agents\n",
    "run_stats = model_run.datacollector.get_model_vars_dataframe()\n",
    "print(run_stats)"
   ]
  },
  {
   "attachments": {},
   "cell_type": "markdown",
   "metadata": {},
   "source": [
    "Export results to CSV file"
   ]
  },
  {
   "cell_type": "code",
   "execution_count": null,
   "metadata": {},
   "outputs": [],
   "source": [
    "# today's date as string\n",
    "date_str = str(datetime.today())\n",
    "# export csv\n",
    "model_run.datacollector.get_model_vars_dataframe().to_csv(cfg.DATA_PATH + 'data_' + date_str[0:10] + '_' + str(no_evs) + '_EV_agent_model_output.csv')"
   ]
  },
  {
   "attachments": {},
   "cell_type": "markdown",
   "metadata": {},
   "source": [
    "Try 3 - unimplemented"
   ]
  },
  {
   "attachments": {},
   "cell_type": "markdown",
   "metadata": {},
   "source": [
    "In this implementation, the move method first determines the position of the next ChargeStation agent in the route, and then moves the EV agent towards that position one step at a time. At each step, the method checks if there is a ChargeStation agent at the new position, and if there is one, it runs the drop_by method to append the ChargeStation agent to the chosen_station attribute of the EV agent.\n",
    "\n",
    "Note that the move method assumes that the pos attribute of the EV agent is a tuple of coordinates, and that the positions of the Location and ChargeStation agents are also tuples of coordinates. The method also assumes that the grid used in the model is a MultiGrid object. If any of these assumptions are not true in your implementation, you may need to modify the code accordingly."
   ]
  },
  {
   "attachments": {},
   "cell_type": "markdown",
   "metadata": {},
   "source": [
    "This is a method for an agent class that represents an electric vehicle (EV) in a simulation. The method is called \"move\" and it takes a \"model\" argument which represents the current state of the simulation.\n",
    "\n",
    "The method begins by calculating a unit vector towards the EV's destination, which is stored in the \"dest_pos\" attribute of the agent. The distance between the current position of the EV and the destination is also calculated using the Pythagorean theorem.\n",
    "\n",
    "If the distance is 0, the EV has reached its destination and the \"dest_pos\" attribute is set to None.\n",
    "\n",
    "If the distance is not 0, the vector is normalized to get a unit vector that represents the direction the EV should move in. The next position of the EV is then calculated by adding the unit vector to the current position of the agent.\n",
    "\n",
    "The method checks if the next position is within the boundaries of the grid. If it is, the EV is moved to the next position by calling the \"move_agent\" method of the model's grid attribute. The method then checks if the EV has encountered a ChargeStation agent at its new position. If it has, the EV is added to the ChargeStation's queue by appending itself to the queue attribute of the ChargeStation agent.\n",
    "\n",
    "If the next position is outside the grid boundaries, the \"dest_pos\" attribute of the EV is set to None, indicating that the EV has reached the edge of the grid and can no longer move."
   ]
  },
  {
   "attachments": {},
   "cell_type": "markdown",
   "metadata": {},
   "source": [
    "## Data import and preprocessing"
   ]
  },
  {
   "attachments": {},
   "cell_type": "markdown",
   "metadata": {},
   "source": [
    "Data import and Helper functions"
   ]
  },
  {
   "cell_type": "code",
   "execution_count": null,
   "metadata": {},
   "outputs": [],
   "source": [
    "import analysis.helper as helper\n",
    "import plotly.express as px\n",
    "import plotly.graph_objs as go\n",
    "import pandas as pd"
   ]
  },
  {
   "cell_type": "code",
   "execution_count": null,
   "metadata": {},
   "outputs": [],
   "source": [
    "data = pd.read_csv(cfg.DATA_PATH +'modeldatadata_2023-03-19_500_EV_agent_model_output.csv')\n",
    "\n",
    "data = data.drop(columns=['Unnamed: 0'])"
   ]
  },
  {
   "cell_type": "code",
   "execution_count": null,
   "metadata": {},
   "outputs": [],
   "source": [
    "# data.info()\n",
    "data.head()"
   ]
  },
  {
   "cell_type": "code",
   "execution_count": null,
   "metadata": {},
   "outputs": [],
   "source": [
    "a = helper.unpack_and_join(data, 'EVs Charge Level')\n",
    "print(a)"
   ]
  },
  {
   "cell_type": "code",
   "execution_count": null,
   "metadata": {},
   "outputs": [],
   "source": [
    "# # EV charge level per EV per timestep - 20 EVs unpacked\n",
    "# newdf = a[['EVs Charge Level', 'EVs Charge Level_unpacked_0', 'EVs Charge Level_unpacked_1', 'EVs Charge Level_unpacked_2', 'EVs Charge Level_unpacked_3', 'EVs Charge Level_unpacked_4', 'EVs Charge Level_unpacked_5', 'EVs Charge Level_unpacked_6', 'EVs Charge Level_unpacked_7', 'EVs Charge Level_unpacked_8', 'EVs Charge Level_unpacked_9', 'EVs Charge Level_unpacked_10', 'EVs Charge Level_unpacked_11', 'EVs Charge Level_unpacked_12', 'EVs Charge Level_unpacked_13', 'EVs Charge Level_unpacked_14', 'EVs Charge Level_unpacked_15', 'EVs Charge Level_unpacked_16', 'EVs Charge Level_unpacked_17', 'EVs Charge Level_unpacked_18', 'EVs Charge Level_unpacked_19']]\n",
    "# newdf.head()\n",
    "\n",
    "# EV charge level per EV per timestep - 20 EVs unpacked\n",
    "newdf = a[['EVs Charge Level', 'EVs Charge Level_unpacked_0', 'EVs Charge Level_unpacked_1', 'EVs Charge Level_unpacked_2', 'EVs Charge Level_unpacked_3', 'EVs Charge Level_unpacked_4']]\n",
    "newdf.head()"
   ]
  },
  {
   "cell_type": "code",
   "execution_count": 4,
   "metadata": {},
   "outputs": [],
   "source": [
    "from EV import model_config as cfg\n",
    "data = cfg.station_config"
   ]
  },
  {
   "cell_type": "code",
   "execution_count": 5,
   "metadata": {},
   "outputs": [],
   "source": [
    "def get_charge_points_per_station(route_name, station, data_dict):\n",
    "    charge_points = []\n",
    "    for key, value in data_dict.items():\n",
    "        if value['Route'] == route_name:\n",
    "            charge_points.append(sum([int(v['Power']) for k, v in data_dict.items() if v['Station'] == value['Station']]))\n",
    "    return charge_points\n",
    "\n",
    "def get_power_values_for_route(station_config, route_name):\n",
    "    \"\"\"Returns a dict with Charge station name as key and list of power values for each charge point in the station.\"\"\"\n",
    "    power_dict = {}\n",
    "    for station in station_config[route_name]:\n",
    "        cp_power = []\n",
    "        for charger in station_config[route_name][station]:\n",
    "            cp_power.append(int(charger['Power']))\n",
    "        power_dict[station] = cp_power\n",
    "    return power_dict"
   ]
  },
  {
   "cell_type": "code",
   "execution_count": null,
   "metadata": {},
   "outputs": [],
   "source": [
    "data"
   ]
  },
  {
   "cell_type": "code",
   "execution_count": 6,
   "metadata": {},
   "outputs": [
    {
     "data": {
      "text/plain": [
       "{'CS_A-D_1': [22, 22, 50], 'CS_A-D_2': [22, 22, 50]}"
      ]
     },
     "execution_count": 6,
     "metadata": {},
     "output_type": "execute_result"
    }
   ],
   "source": [
    "# get_charge_points_per_station('A-B', data)\n",
    "get_power_values_for_route(data, 'A-D')"
   ]
  },
  {
   "cell_type": "code",
   "execution_count": 7,
   "metadata": {},
   "outputs": [
    {
     "name": "stdout",
     "output_type": "stream",
     "text": [
      "CS_A-D_1 [22, 22, 50]\n",
      "CS_A-D_2 [22, 22, 50]\n",
      "[22, 22]\n"
     ]
    },
    {
     "data": {
      "text/plain": [
       "50"
      ]
     },
     "execution_count": 7,
     "metadata": {},
     "output_type": "execute_result"
    }
   ],
   "source": [
    "b = {'CS_A-D_1': [22, 22, 50], 'CS_A-D_2': [22, 22, 50]}\n",
    "c = []\n",
    "pos = 0\n",
    "for key, value in b.items():\n",
    "    print(key, value)\n",
    "    c.append(value[pos])\n",
    "print(c)\n",
    "\n",
    "# for a in self.__dir__():\n",
    "#     print(a)\n",
    "\n",
    "def get_power_value_for_cp(station_config, route_name, cs_name, cp_name):\n",
    "    \"\"\"Returns the power value for a specific charge point.\"\"\"\n",
    "    power_dict = get_power_values_for_route(station_config, route_name)\n",
    "    for key, value in power_dict.items():\n",
    "        if key == cs_name:\n",
    "            return value[cp_name]\n",
    "\n",
    "get_power_value_for_cp(data, 'A-D', 'CS_A-D_1', 2)"
   ]
  },
  {
   "cell_type": "code",
   "execution_count": 8,
   "metadata": {},
   "outputs": [
    {
     "name": "stdout",
     "output_type": "stream",
     "text": [
      "1\n",
      "2\n",
      "3\n",
      "4\n"
     ]
    }
   ],
   "source": [
    "# a = get_power_value_for_cp(data, 'B-C', 'cp_01')\n",
    "# print(a)\n",
    "# def cp_name_to_cp_number(cp_name):\n",
    "#     \"\"\"Returns the charge point number from the charge point name.\"\"\"\n",
    "#     return int(cp_name.split('p')[1])\n",
    "\n",
    "# cp_name_to_cp_number('cp1')\n",
    "# for i in range(1,5):\n",
    "#     print(i)"
   ]
  },
  {
   "cell_type": "code",
   "execution_count": 9,
   "metadata": {},
   "outputs": [
    {
     "ename": "IndexError",
     "evalue": "list index out of range",
     "output_type": "error",
     "traceback": [
      "\u001b[0;31m---------------------------------------------------------------------------\u001b[0m",
      "\u001b[0;31mIndexError\u001b[0m                                Traceback (most recent call last)",
      "Cell \u001b[0;32mIn[9], line 1\u001b[0m\n\u001b[0;32m----> 1\u001b[0m \u001b[39mprint\u001b[39m(worker\u001b[39m.\u001b[39mget_power_value_for_cp(station_config\u001b[39m=\u001b[39mdata, route_name\u001b[39m=\u001b[39m\u001b[39m'\u001b[39m\u001b[39mA-D\u001b[39m\u001b[39m'\u001b[39m, cs_name\u001b[39m=\u001b[39m\u001b[39m'\u001b[39m\u001b[39mCS_A-D_1\u001b[39m\u001b[39m'\u001b[39m, cp_name \u001b[39m=\u001b[39m worker\u001b[39m.\u001b[39;49mcp_name_to_cp_number(\u001b[39m'\u001b[39;49m\u001b[39mcp1\u001b[39;49m\u001b[39m'\u001b[39;49m)))\n",
      "File \u001b[0;32m~/Projects/ec4d/EV/worker.py:447\u001b[0m, in \u001b[0;36mcp_name_to_cp_number\u001b[0;34m(cp_no)\u001b[0m\n\u001b[1;32m    445\u001b[0m \u001b[39mdef\u001b[39;00m \u001b[39mcp_name_to_cp_number\u001b[39m(cp_no):\n\u001b[1;32m    446\u001b[0m \u001b[39m    \u001b[39m\u001b[39m\"\"\"Returns the charge point number from the charge point name.\"\"\"\u001b[39;00m\n\u001b[0;32m--> 447\u001b[0m     \u001b[39mreturn\u001b[39;00m \u001b[39mint\u001b[39m(cp_no\u001b[39m.\u001b[39;49msplit(\u001b[39m'\u001b[39;49m\u001b[39m_\u001b[39;49m\u001b[39m'\u001b[39;49m)[\u001b[39m1\u001b[39;49m])\n",
      "\u001b[0;31mIndexError\u001b[0m: list index out of range"
     ]
    }
   ],
   "source": [
    "print(worker.get_power_value_for_cp(station_config=data, route_name='A-D', cs_name='CS_A-D_1', cp_name = worker.cp_name_to_cp_number('cp1')))"
   ]
  },
  {
   "cell_type": "code",
   "execution_count": 11,
   "metadata": {},
   "outputs": [
    {
     "name": "stdout",
     "output_type": "stream",
     "text": [
      "<class 'int'>\n"
     ]
    }
   ],
   "source": [
    "cp_name = worker.cp_name_to_cp_number('cp_1')\n",
    "print(type(cp_name))"
   ]
  },
  {
   "attachments": {},
   "cell_type": "markdown",
   "metadata": {},
   "source": [
    "## Batching"
   ]
  },
  {
   "cell_type": "code",
   "execution_count": null,
   "metadata": {},
   "outputs": [],
   "source": [
    "from mesa.batchrunner import BatchRunner\n",
    "\n",
    "EVcounts = (100,500,1000)\n",
    "cpcounts = (1,2)\n",
    "tickcounts = (24,48)\n",
    "model_reporters={'EVs Charged': get_evs_charged,\n",
    "                'EVs Activated': get_evs_active,\n",
    "                'EVs Travelling': get_evs_travel,\n",
    "                'EVs Charge Level': get_evs_charge_level,\n",
    "                'EVs Currently charging': get_evs_charging,\n",
    "                'EVs Not Idle': get_evs_not_idle,\n",
    "                'EOD Battery SOC': get_eod_evs_socs,\n",
    "                'EVs Destinations': get_evs_destinations,\n",
    "                }\n",
    "# parameters = {\"no_evs\": range(1000,20000,3000), \"no_cps\": 1}\n",
    "parameters = {\"no_evs\": EVcounts, \"no_cps\": cpcounts, \"ticks\": tickcounts}\n",
    "batch_run = BatchRunner(model.EVModel, parameters, max_steps=24, iterations=1, model_reporters= model_reporters) #iterations=1\n",
    "batch_run.run_all()"
   ]
  },
  {
   "cell_type": "code",
   "execution_count": null,
   "metadata": {},
   "outputs": [],
   "source": [
    "# batch_df = batch_run.get_model_vars_dataframe()"
   ]
  },
  {
   "cell_type": "code",
   "execution_count": null,
   "metadata": {},
   "outputs": [],
   "source": [
    "# print(batch_df)"
   ]
  },
  {
   "attachments": {},
   "cell_type": "markdown",
   "metadata": {},
   "source": [
    "## Visualisations"
   ]
  },
  {
   "attachments": {},
   "cell_type": "markdown",
   "metadata": {},
   "source": [
    "Scatter plot"
   ]
  },
  {
   "cell_type": "code",
   "execution_count": null,
   "metadata": {},
   "outputs": [],
   "source": [
    "# plot_data_lines(newdf, 'Timestep', ['EVs Charge Level_unpacked_0', 'EVs Charge Level_unpacked_1', 'EVs Charge Level_unpacked_2', 'EVs Charge Level_unpacked_3', 'EVs Charge Level_unpacked_4'])"
   ]
  },
  {
   "attachments": {},
   "cell_type": "markdown",
   "metadata": {},
   "source": [
    "## Scrapbook"
   ]
  },
  {
   "cell_type": "code",
   "execution_count": null,
   "metadata": {},
   "outputs": [],
   "source": [
    "import math\n",
    "\n",
    "def distance(x1, y1, x2, y2)-> float:\n",
    "        return math.sqrt((x2 - x1) ** 2 + (y2 - y1) ** 2)"
   ]
  },
  {
   "cell_type": "code",
   "execution_count": null,
   "metadata": {},
   "outputs": [],
   "source": [
    "a = distance(1,2,4,4)\n",
    "b = distance(1,3,2,2)\n",
    "print(a,b)"
   ]
  },
  {
   "cell_type": "code",
   "execution_count": null,
   "metadata": {},
   "outputs": [],
   "source": [
    "class MyListClass:\n",
    "    def __init__(self, n, string_list):\n",
    "        \"\"\"\n",
    "        # This function creates an ’n’ number of class attributes named as each string in the list, and initialised as empty lists.\n",
    "        \"\"\"\n",
    "        for s in string_list:\n",
    "            setattr(self, s, [])\n",
    "            for i in range(n):\n",
    "                getattr(self, s).append(None)\n",
    "\n",
    "my_obj = MyListClass(5, ['foo', 'bar', 'baz'])\n",
    "print(my_obj.foo)\n",
    "# [None, None, None, None, None]\n",
    "\n",
    "my_obj.foo[0] = 42\n",
    "print(my_obj.foo)\n",
    "# [42, None, None, None, None]\n",
    "\n",
    "my_obj.bar.append('hello')\n",
    "print(my_obj.bar)\n",
    "# [None, None, None, None, None, 'hello']"
   ]
  },
  {
   "cell_type": "code",
   "execution_count": null,
   "metadata": {},
   "outputs": [],
   "source": [
    "def get_direction(s):\n",
    "    \"\"\"Gets the direction of the EV based on the route.\n",
    "    \"\"\"\n",
    "    # Extract the source and destination points from the input string\n",
    "    src, dest = s.split('-')\n",
    "    # Define a dictionary to map each point to its row and column in the grid\n",
    "    point_map = {'A': (0, 0), 'B': (0, 1), 'C': (1, 0), 'D': (1, 1)}\n",
    "    # Get the row and column numbers for the source and destination points\n",
    "    src_row, src_col = point_map[src]\n",
    "    dest_row, dest_col = point_map[dest]\n",
    "    # Calculate the row and column differences between the source and destination points\n",
    "    row_diff = dest_row - src_row\n",
    "    col_diff = dest_col - src_col\n",
    "    # Determine the direction based on the row and column differences\n",
    "    if row_diff == -1 and col_diff == 0:\n",
    "        return 1  # up\n",
    "    elif row_diff == 0 and col_diff == 1:\n",
    "        return 2  # right\n",
    "    elif row_diff == 1 and col_diff == 0:\n",
    "        return 3  # down\n",
    "    elif row_diff == 0 and col_diff == -1:\n",
    "        return 4  # left\n",
    "    elif row_diff == -1 and col_diff == 1:\n",
    "        return 5  # diagonal - right and up\n",
    "    elif row_diff == -1 and col_diff == -1:\n",
    "        return 6  # diagonal - left and up\n",
    "    elif row_diff == 1 and col_diff == 1:\n",
    "        return 7  # diagonal - right and down\n",
    "    elif row_diff == 1 and col_diff == -1:\n",
    "        return 8  # diagonal - left and down\n",
    "    else:\n",
    "        raise ValueError('Invalid input: {}'.format(s))\n",
    "    \n",
    "get_direction('B-C')"
   ]
  }
 ],
 "metadata": {
  "kernelspec": {
   "display_name": "Python 3",
   "language": "python",
   "name": "python3"
  },
  "language_info": {
   "codemirror_mode": {
    "name": "ipython",
    "version": 3
   },
   "file_extension": ".py",
   "mimetype": "text/x-python",
   "name": "python",
   "nbconvert_exporter": "python",
   "pygments_lexer": "ipython3",
   "version": "3.11.2"
  },
  "orig_nbformat": 4,
  "vscode": {
   "interpreter": {
    "hash": "aee8b7b246df8f9039afb4144a1f6fd8d2ca17a180786b69acc140d282b71a49"
   }
  }
 },
 "nbformat": 4,
 "nbformat_minor": 2
}
